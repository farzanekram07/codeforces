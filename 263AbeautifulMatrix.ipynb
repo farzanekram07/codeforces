{
  "nbformat": 4,
  "nbformat_minor": 0,
  "metadata": {
    "colab": {
      "provenance": [],
      "authorship_tag": "ABX9TyPYngmHEZ0XElt6XjpDvlhY",
      "include_colab_link": true
    },
    "kernelspec": {
      "name": "python3",
      "display_name": "Python 3"
    },
    "language_info": {
      "name": "python"
    }
  },
  "cells": [
    {
      "cell_type": "markdown",
      "metadata": {
        "id": "view-in-github",
        "colab_type": "text"
      },
      "source": [
        "<a href=\"https://colab.research.google.com/github/farzanekram07/codeforces/blob/main/263AbeautifulMatrix.ipynb\" target=\"_parent\"><img src=\"https://colab.research.google.com/assets/colab-badge.svg\" alt=\"Open In Colab\"/></a>"
      ]
    },
    {
      "cell_type": "code",
      "execution_count": null,
      "metadata": {
        "id": "JCzbg4EueM_7"
      },
      "outputs": [],
      "source": [
        "matrix = []\n",
        "for i in range(5):\n",
        "      matrix.append(list(map(int, input().split())))\n",
        "\n",
        "for i, mat in enumerate(matrix):\n",
        "      for idx, lst in enumerate(mat):\n",
        "            if matrix[i][idx] == 1:\n",
        "                  x1, y1 = i, idx\n",
        "\n",
        "x2, y2 = 2,2\n",
        "\n",
        "print(abs(x1-x2)+abs(y1-y2)) # Manhattan Distance"
      ]
    }
  ]
}