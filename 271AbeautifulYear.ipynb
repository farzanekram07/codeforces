{
  "nbformat": 4,
  "nbformat_minor": 0,
  "metadata": {
    "colab": {
      "provenance": [],
      "authorship_tag": "ABX9TyN9rrmMN+BDfF2bmnC0pYB/",
      "include_colab_link": true
    },
    "kernelspec": {
      "name": "python3",
      "display_name": "Python 3"
    },
    "language_info": {
      "name": "python"
    }
  },
  "cells": [
    {
      "cell_type": "markdown",
      "metadata": {
        "id": "view-in-github",
        "colab_type": "text"
      },
      "source": [
        "<a href=\"https://colab.research.google.com/github/farzanekram07/codeforces/blob/main/271AbeautifulYear.ipynb\" target=\"_parent\"><img src=\"https://colab.research.google.com/assets/colab-badge.svg\" alt=\"Open In Colab\"/></a>"
      ]
    },
    {
      "cell_type": "code",
      "execution_count": null,
      "metadata": {
        "id": "yZvpnJp0iiFM"
      },
      "outputs": [],
      "source": [
        "def uniqueYear(st: str):\n",
        "      st = sorted(st)\n",
        "      for i in range(len(st)-1):\n",
        "            if st[i] == st[i+1]:\n",
        "                  return False\n",
        "      return True\n",
        "\n",
        "year = str(int(input())+1)\n",
        "\n",
        "while not uniqueYear(year):\n",
        "      year = str(int(year)+1)\n",
        "\n",
        "print(year)"
      ]
    }
  ]
}