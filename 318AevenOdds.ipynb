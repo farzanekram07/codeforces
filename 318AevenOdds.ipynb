{
  "nbformat": 4,
  "nbformat_minor": 0,
  "metadata": {
    "colab": {
      "provenance": [],
      "authorship_tag": "ABX9TyNZaJsQKQ1sXVrmZL9k6uK8",
      "include_colab_link": true
    },
    "kernelspec": {
      "name": "python3",
      "display_name": "Python 3"
    },
    "language_info": {
      "name": "python"
    }
  },
  "cells": [
    {
      "cell_type": "markdown",
      "metadata": {
        "id": "view-in-github",
        "colab_type": "text"
      },
      "source": [
        "<a href=\"https://colab.research.google.com/github/farzanekram07/codeforces/blob/main/318AevenOdds.ipynb\" target=\"_parent\"><img src=\"https://colab.research.google.com/assets/colab-badge.svg\" alt=\"Open In Colab\"/></a>"
      ]
    },
    {
      "cell_type": "code",
      "execution_count": null,
      "metadata": {
        "id": "KapgkaXKi0OU"
      },
      "outputs": [],
      "source": [
        "from math import  floor\n",
        "n, k = map(int, input().split())\n",
        "\n",
        "odds = range(1, n+1, 2)\n",
        "evens = range(2, n+1, 2)\n",
        "\n",
        "try:\n",
        "      print(odds[k-1])\n",
        "except IndexError:\n",
        "      try:\n",
        "            idx = k - len(odds)\n",
        "            print(evens[idx-1])\n",
        "      except OverflowError:\n",
        "            try:\n",
        "                  idx = k - floor(n/2)\n",
        "                  print(evens[idx-1])\n",
        "            except IndexError:\n",
        "                  print(evens[idx-2])"
      ]
    }
  ]
}