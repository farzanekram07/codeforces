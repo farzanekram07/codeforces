{
  "nbformat": 4,
  "nbformat_minor": 0,
  "metadata": {
    "colab": {
      "provenance": [],
      "authorship_tag": "ABX9TyPll3Fr+M3NuWVunwhxUOZT",
      "include_colab_link": true
    },
    "kernelspec": {
      "name": "python3",
      "display_name": "Python 3"
    },
    "language_info": {
      "name": "python"
    }
  },
  "cells": [
    {
      "cell_type": "markdown",
      "metadata": {
        "id": "view-in-github",
        "colab_type": "text"
      },
      "source": [
        "<a href=\"https://colab.research.google.com/github/farzanekram07/codeforces/blob/main/141AamusingJoke.ipynb\" target=\"_parent\"><img src=\"https://colab.research.google.com/assets/colab-badge.svg\" alt=\"Open In Colab\"/></a>"
      ]
    },
    {
      "cell_type": "code",
      "execution_count": null,
      "metadata": {
        "id": "D0DucNaRiKj7"
      },
      "outputs": [],
      "source": [
        "guest = input()\n",
        "host = input()\n",
        "joke = ''.join(sorted(input()))\n",
        "temp = ''.join(sorted(guest+host))\n",
        "\n",
        "print('YES') if joke == temp else print('NO')"
      ]
    }
  ]
}